{
 "cells": [
  {
   "cell_type": "markdown",
   "metadata": {
    "collapsed": true
   },
   "source": [
    "# Artificial Intelligence Nanodegree\n",
    "## Machine Translation Project\n",
    "In this notebook, sections that end with **'(IMPLEMENTATION)'** in the header indicate that the following blocks of code will require additional functionality which you must provide. Please be sure to read the instructions carefully!\n",
    "\n",
    "## Introduction\n",
    "In this notebook, you will build a deep neural network that functions as part of an end-to-end machine translation pipeline. Your completed pipeline will accept English text as input and return the French translation.\n",
    "\n",
    "- **Preprocess** - You'll convert text to sequence of integers.\n",
    "- **Models** Create models which accepts a sequence of integers as input and returns a probability distribution over possible translations. After learning about the basic types of neural networks that are often used for machine translation, you will engage in your own investigations, to design your own model!\n",
    "- **Prediction** Run the model on English text."
   ]
  },
  {
   "cell_type": "code",
   "execution_count": 1,
   "metadata": {},
   "outputs": [],
   "source": [
    "%load_ext autoreload\n",
    "%aimport helper, tests\n",
    "%autoreload 1"
   ]
  },
  {
   "cell_type": "code",
   "execution_count": 2,
   "metadata": {},
   "outputs": [
    {
     "name": "stderr",
     "output_type": "stream",
     "text": [
      "C:\\Users\\ndrs\\Anaconda3\\lib\\site-packages\\h5py\\__init__.py:34: FutureWarning: Conversion of the second argument of issubdtype from `float` to `np.floating` is deprecated. In future, it will be treated as `np.float64 == np.dtype(float).type`.\n",
      "  from ._conv import register_converters as _register_converters\n",
      "Using TensorFlow backend.\n"
     ]
    }
   ],
   "source": [
    "import collections\n",
    "\n",
    "import helper\n",
    "import numpy as np\n",
    "import project_tests as tests\n",
    "\n",
    "from keras.preprocessing.text import Tokenizer\n",
    "from keras.preprocessing.sequence import pad_sequences\n",
    "from keras.models import Model\n",
    "from keras.layers import GRU,CuDNNLSTM,CuDNNGRU, Input, Dense, TimeDistributed, Activation, RepeatVector, Bidirectional\n",
    "from keras.layers.embeddings import Embedding\n",
    "from keras.optimizers import Adam\n",
    "from keras.losses import sparse_categorical_crossentropy"
   ]
  },
  {
   "cell_type": "markdown",
   "metadata": {},
   "source": [
    "### Verify access to the GPU\n",
    "The following test applies only if you expect to be using a GPU, e.g., while running in a Udacity Workspace or using an AWS instance with GPU support. Run the next cell, and verify that the device_type is \"GPU\".\n",
    "- If the device is not GPU & you are running from a Udacity Workspace, then save your workspace with the icon at the top, then click \"enable\" at the bottom of the workspace.\n",
    "- If the device is not GPU & you are running from an AWS instance, then refer to the cloud computing instructions in the classroom to verify your setup steps."
   ]
  },
  {
   "cell_type": "code",
   "execution_count": 3,
   "metadata": {},
   "outputs": [
    {
     "name": "stdout",
     "output_type": "stream",
     "text": [
      "[name: \"/device:CPU:0\"\n",
      "device_type: \"CPU\"\n",
      "memory_limit: 268435456\n",
      "locality {\n",
      "}\n",
      "incarnation: 74094599461318206\n",
      ", name: \"/device:GPU:0\"\n",
      "device_type: \"GPU\"\n",
      "memory_limit: 9233114071\n",
      "locality {\n",
      "  bus_id: 1\n",
      "  links {\n",
      "  }\n",
      "}\n",
      "incarnation: 10927477591585745678\n",
      "physical_device_desc: \"device: 0, name: GeForce GTX 1080 Ti, pci bus id: 0000:01:00.0, compute capability: 6.1\"\n",
      "]\n"
     ]
    }
   ],
   "source": [
    "from tensorflow.python.client import device_lib\n",
    "print(device_lib.list_local_devices())"
   ]
  },
  {
   "cell_type": "markdown",
   "metadata": {},
   "source": [
    "## Dataset\n",
    "We begin by investigating the dataset that will be used to train and evaluate your pipeline.  The most common datasets used for machine translation are from [WMT](http://www.statmt.org/).  However, that will take a long time to train a neural network on.  We'll be using a dataset we created for this project that contains a small vocabulary.  You'll be able to train your model in a reasonable time with this dataset.\n",
    "### Load Data\n",
    "The data is located in `data/small_vocab_en` and `data/small_vocab_fr`. The `small_vocab_en` file contains English sentences with their French translations in the `small_vocab_fr` file. Load the English and French data from these files from running the cell below."
   ]
  },
  {
   "cell_type": "code",
   "execution_count": 4,
   "metadata": {},
   "outputs": [
    {
     "name": "stdout",
     "output_type": "stream",
     "text": [
      "Dataset Loaded\n"
     ]
    }
   ],
   "source": [
    "# Load English data\n",
    "english_sentences = helper.load_data('data/small_vocab_en')\n",
    "# Load French data\n",
    "french_sentences = helper.load_data('data/small_vocab_fr')\n",
    "\n",
    "print('Dataset Loaded')"
   ]
  },
  {
   "cell_type": "markdown",
   "metadata": {},
   "source": [
    "### Files\n",
    "Each line in `small_vocab_en` contains an English sentence with the respective translation in each line of `small_vocab_fr`.  View the first two lines from each file."
   ]
  },
  {
   "cell_type": "code",
   "execution_count": 5,
   "metadata": {},
   "outputs": [
    {
     "name": "stdout",
     "output_type": "stream",
     "text": [
      "small_vocab_en Line 1:  new jersey is sometimes quiet during autumn , and it is snowy in april .\n",
      "small_vocab_fr Line 1:  new jersey est parfois calme pendant l' automne , et il est neigeux en avril .\n",
      "small_vocab_en Line 2:  the united states is usually chilly during july , and it is usually freezing in november .\n",
      "small_vocab_fr Line 2:  les Ã©tats-unis est gÃ©nÃ©ralement froid en juillet , et il gÃ¨le habituellement en novembre .\n"
     ]
    }
   ],
   "source": [
    "for sample_i in range(2):\n",
    "    print('small_vocab_en Line {}:  {}'.format(sample_i + 1, english_sentences[sample_i]))\n",
    "    print('small_vocab_fr Line {}:  {}'.format(sample_i + 1, french_sentences[sample_i]))"
   ]
  },
  {
   "cell_type": "markdown",
   "metadata": {},
   "source": [
    "From looking at the sentences, you can see they have been preprocessed already.  The puncuations have been delimited using spaces. All the text have been converted to lowercase.  This should save you some time, but the text requires more preprocessing.\n",
    "### Vocabulary\n",
    "The complexity of the problem is determined by the complexity of the vocabulary.  A more complex vocabulary is a more complex problem.  Let's look at the complexity of the dataset we'll be working with."
   ]
  },
  {
   "cell_type": "code",
   "execution_count": 6,
   "metadata": {},
   "outputs": [
    {
     "name": "stdout",
     "output_type": "stream",
     "text": [
      "1823250 English words.\n",
      "227 unique English words.\n",
      "10 Most common words in the English dataset:\n",
      "\"is\" \",\" \".\" \"in\" \"it\" \"during\" \"the\" \"but\" \"and\" \"sometimes\"\n",
      "\n",
      "1961295 French words.\n",
      "355 unique French words.\n",
      "10 Most common words in the French dataset:\n",
      "\"est\" \".\" \",\" \"en\" \"il\" \"les\" \"mais\" \"et\" \"la\" \"parfois\"\n"
     ]
    }
   ],
   "source": [
    "english_words_counter = collections.Counter([word for sentence in english_sentences for word in sentence.split()])\n",
    "french_words_counter = collections.Counter([word for sentence in french_sentences for word in sentence.split()])\n",
    "\n",
    "print('{} English words.'.format(len([word for sentence in english_sentences for word in sentence.split()])))\n",
    "print('{} unique English words.'.format(len(english_words_counter)))\n",
    "print('10 Most common words in the English dataset:')\n",
    "print('\"' + '\" \"'.join(list(zip(*english_words_counter.most_common(10)))[0]) + '\"')\n",
    "print()\n",
    "print('{} French words.'.format(len([word for sentence in french_sentences for word in sentence.split()])))\n",
    "print('{} unique French words.'.format(len(french_words_counter)))\n",
    "print('10 Most common words in the French dataset:')\n",
    "print('\"' + '\" \"'.join(list(zip(*french_words_counter.most_common(10)))[0]) + '\"')"
   ]
  },
  {
   "cell_type": "markdown",
   "metadata": {},
   "source": [
    "For comparison, _Alice's Adventures in Wonderland_ contains 2,766 unique words of a total of 15,500 words.\n",
    "## Preprocess\n",
    "For this project, you won't use text data as input to your model. Instead, you'll convert the text into sequences of integers using the following preprocess methods:\n",
    "1. Tokenize the words into ids\n",
    "2. Add padding to make all the sequences the same length.\n",
    "\n",
    "Time to start preprocessing the data...\n",
    "### Tokenize (IMPLEMENTATION)\n",
    "For a neural network to predict on text data, it first has to be turned into data it can understand. Text data like \"dog\" is a sequence of ASCII character encodings.  Since a neural network is a series of multiplication and addition operations, the input data needs to be number(s).\n",
    "\n",
    "We can turn each character into a number or each word into a number.  These are called character and word ids, respectively.  Character ids are used for character level models that generate text predictions for each character.  A word level model uses word ids that generate text predictions for each word.  Word level models tend to learn better, since they are lower in complexity, so we'll use those.\n",
    "\n",
    "Turn each sentence into a sequence of words ids using Keras's [`Tokenizer`](https://keras.io/preprocessing/text/#tokenizer) function. Use this function to tokenize `english_sentences` and `french_sentences` in the cell below.\n",
    "\n",
    "Running the cell will run `tokenize` on sample data and show output for debugging."
   ]
  },
  {
   "cell_type": "code",
   "execution_count": 7,
   "metadata": {},
   "outputs": [
    {
     "name": "stdout",
     "output_type": "stream",
     "text": [
      "{'the': 1, 'quick': 2, 'a': 3, 'brown': 4, 'fox': 5, 'jumps': 6, 'over': 7, 'lazy': 8, 'dog': 9, 'by': 10, 'jove': 11, 'my': 12, 'study': 13, 'of': 14, 'lexicography': 15, 'won': 16, 'prize': 17, 'this': 18, 'is': 19, 'short': 20, 'sentence': 21}\n",
      "\n",
      "Sequence 1 in x\n",
      "  Input:  The quick brown fox jumps over the lazy dog .\n",
      "  Output: [1, 2, 4, 5, 6, 7, 1, 8, 9]\n",
      "Sequence 2 in x\n",
      "  Input:  By Jove , my quick study of lexicography won a prize .\n",
      "  Output: [10, 11, 12, 2, 13, 14, 15, 16, 3, 17]\n",
      "Sequence 3 in x\n",
      "  Input:  This is a short sentence .\n",
      "  Output: [18, 19, 3, 20, 21]\n"
     ]
    }
   ],
   "source": [
    "def tokenize(x):\n",
    "    \"\"\"\n",
    "    Tokenize x\n",
    "    :param x: List of sentences/strings to be tokenized\n",
    "    :return: Tuple of (tokenized x data, tokenizer used to tokenize x)\n",
    "    \"\"\"\n",
    "    # TODO: Implement\n",
    "    tok=Tokenizer()\n",
    "    tok.fit_on_texts(x)\n",
    "    \n",
    "    return tok.texts_to_sequences(x), tok\n",
    "\n",
    "tests.test_tokenize(tokenize)\n",
    "\n",
    "# Tokenize Example output\n",
    "text_sentences = [\n",
    "    'The quick brown fox jumps over the lazy dog .',\n",
    "    'By Jove , my quick study of lexicography won a prize .',\n",
    "    'This is a short sentence .']\n",
    "text_tokenized, text_tokenizer = tokenize(text_sentences)\n",
    "print(text_tokenizer.word_index)\n",
    "print()\n",
    "for sample_i, (sent, token_sent) in enumerate(zip(text_sentences, text_tokenized)):\n",
    "    print('Sequence {} in x'.format(sample_i + 1))\n",
    "    print('  Input:  {}'.format(sent))\n",
    "    print('  Output: {}'.format(token_sent))"
   ]
  },
  {
   "cell_type": "markdown",
   "metadata": {},
   "source": [
    "### Padding (IMPLEMENTATION)\n",
    "When batching the sequence of word ids together, each sequence needs to be the same length.  Since sentences are dynamic in length, we can add padding to the end of the sequences to make them the same length.\n",
    "\n",
    "Make sure all the English sequences have the same length and all the French sequences have the same length by adding padding to the **end** of each sequence using Keras's [`pad_sequences`](https://keras.io/preprocessing/sequence/#pad_sequences) function."
   ]
  },
  {
   "cell_type": "code",
   "execution_count": 8,
   "metadata": {},
   "outputs": [
    {
     "name": "stdout",
     "output_type": "stream",
     "text": [
      "Sequence 1 in x\n",
      "  Input:  [1 2 4 5 6 7 1 8 9]\n",
      "  Output: [1 2 4 5 6 7 1 8 9 0]\n",
      "Sequence 2 in x\n",
      "  Input:  [10 11 12  2 13 14 15 16  3 17]\n",
      "  Output: [10 11 12  2 13 14 15 16  3 17]\n",
      "Sequence 3 in x\n",
      "  Input:  [18 19  3 20 21]\n",
      "  Output: [18 19  3 20 21  0  0  0  0  0]\n"
     ]
    }
   ],
   "source": [
    "def pad(x, length=None):\n",
    "    \"\"\"\n",
    "    Pad x\n",
    "    :param x: List of sequences.\n",
    "    :param length: Length to pad the sequence to.  If None, use length of longest sequence in x.\n",
    "    :return: Padded numpy array of sequences\n",
    "    \"\"\"\n",
    "    # TODO: Implement\n",
    "    if length==None :\n",
    "        length=len(max(x,key=len))\n",
    "    return pad_sequences(x,maxlen=length,padding='post')\n",
    "\n",
    "tests.test_pad(pad)\n",
    "\n",
    "# Pad Tokenized output\n",
    "test_pad = pad(text_tokenized)\n",
    "for sample_i, (token_sent, pad_sent) in enumerate(zip(text_tokenized, test_pad)):\n",
    "    print('Sequence {} in x'.format(sample_i + 1))\n",
    "    print('  Input:  {}'.format(np.array(token_sent)))\n",
    "    print('  Output: {}'.format(pad_sent))"
   ]
  },
  {
   "cell_type": "markdown",
   "metadata": {},
   "source": [
    "### Preprocess Pipeline\n",
    "Your focus for this project is to build neural network architecture, so we won't ask you to create a preprocess pipeline.  Instead, we've provided you with the implementation of the `preprocess` function."
   ]
  },
  {
   "cell_type": "code",
   "execution_count": 9,
   "metadata": {},
   "outputs": [
    {
     "name": "stdout",
     "output_type": "stream",
     "text": [
      "Data Preprocessed\n",
      "Max English sentence length: 15\n",
      "Max French sentence length: 21\n",
      "English vocabulary size: 199\n",
      "French vocabulary size: 345\n"
     ]
    }
   ],
   "source": [
    "def preprocess(x, y):\n",
    "    \"\"\"\n",
    "    Preprocess x and y\n",
    "    :param x: Feature List of sentences\n",
    "    :param y: Label List of sentences\n",
    "    :return: Tuple of (Preprocessed x, Preprocessed y, x tokenizer, y tokenizer)\n",
    "    \"\"\"\n",
    "    preprocess_x, x_tk = tokenize(x)\n",
    "    preprocess_y, y_tk = tokenize(y)\n",
    "\n",
    "    preprocess_x = pad(preprocess_x)\n",
    "    preprocess_y = pad(preprocess_y)\n",
    "\n",
    "    # Keras's sparse_categorical_crossentropy function requires the labels to be in 3 dimensions\n",
    "    preprocess_y = preprocess_y.reshape(*preprocess_y.shape, 1)\n",
    "\n",
    "    return preprocess_x, preprocess_y, x_tk, y_tk\n",
    "\n",
    "preproc_english_sentences, preproc_french_sentences, english_tokenizer, french_tokenizer =\\\n",
    "    preprocess(english_sentences, french_sentences)\n",
    "    \n",
    "max_english_sequence_length = preproc_english_sentences.shape[1]\n",
    "max_french_sequence_length = preproc_french_sentences.shape[1]\n",
    "english_vocab_size = len(english_tokenizer.word_index)\n",
    "french_vocab_size = len(french_tokenizer.word_index)\n",
    "\n",
    "print('Data Preprocessed')\n",
    "print(\"Max English sentence length:\", max_english_sequence_length)\n",
    "print(\"Max French sentence length:\", max_french_sequence_length)\n",
    "print(\"English vocabulary size:\", english_vocab_size)\n",
    "print(\"French vocabulary size:\", french_vocab_size)"
   ]
  },
  {
   "cell_type": "markdown",
   "metadata": {},
   "source": [
    "## Models\n",
    "In this section, you will experiment with various neural network architectures.\n",
    "You will begin by training four relatively simple architectures.\n",
    "- Model 1 is a simple RNN\n",
    "- Model 2 is a RNN with Embedding\n",
    "- Model 3 is a Bidirectional RNN\n",
    "- Model 4 is an optional Encoder-Decoder RNN\n",
    "\n",
    "After experimenting with the four simple architectures, you will construct a deeper architecture that is designed to outperform all four models.\n",
    "### Ids Back to Text\n",
    "The neural network will be translating the input to words ids, which isn't the final form we want.  We want the French translation.  The function `logits_to_text` will bridge the gab between the logits from the neural network to the French translation.  You'll be using this function to better understand the output of the neural network."
   ]
  },
  {
   "cell_type": "code",
   "execution_count": 10,
   "metadata": {},
   "outputs": [
    {
     "name": "stdout",
     "output_type": "stream",
     "text": [
      "`logits_to_text` function loaded.\n"
     ]
    }
   ],
   "source": [
    "def logits_to_text(logits, tokenizer):\n",
    "    \"\"\"\n",
    "    Turn logits from a neural network into text using the tokenizer\n",
    "    :param logits: Logits from a neural network\n",
    "    :param tokenizer: Keras Tokenizer fit on the labels\n",
    "    :return: String that represents the text of the logits\n",
    "    \"\"\"\n",
    "    index_to_words = {id: word for word, id in tokenizer.word_index.items()}\n",
    "    index_to_words[0] = '<PAD>'\n",
    "\n",
    "    return ' '.join([index_to_words[prediction] for prediction in np.argmax(logits, 1)])\n",
    "\n",
    "print('`logits_to_text` function loaded.')"
   ]
  },
  {
   "cell_type": "markdown",
   "metadata": {},
   "source": [
    "### Model 1: RNN (IMPLEMENTATION)\n",
    "![RNN](images/rnn.png)\n",
    "A basic RNN model is a good baseline for sequence data.  In this model, you'll build a RNN that translates English to French."
   ]
  },
  {
   "cell_type": "code",
   "execution_count": 17,
   "metadata": {},
   "outputs": [
    {
     "name": "stdout",
     "output_type": "stream",
     "text": [
      "Tensor(\"input_13:0\", shape=(?, 21, 1), dtype=float32)\n",
      "Tensor(\"input_14:0\", shape=(?, 21, 1), dtype=float32)\n",
      "Train on 110288 samples, validate on 27573 samples\n",
      "Epoch 1/10\n",
      "110288/110288 [==============================] - 21s 188us/step - loss: 1.2899 - acc: 0.6357 - val_loss: nan - val_acc: 0.6719\n",
      "Epoch 2/10\n",
      "110288/110288 [==============================] - 19s 175us/step - loss: 0.9610 - acc: 0.6974 - val_loss: nan - val_acc: 0.7260\n",
      "Epoch 3/10\n",
      "110288/110288 [==============================] - 19s 176us/step - loss: 0.8300 - acc: 0.7335 - val_loss: nan - val_acc: 0.7488\n",
      "Epoch 4/10\n",
      "110288/110288 [==============================] - 20s 179us/step - loss: 0.7651 - acc: 0.7494 - val_loss: nan - val_acc: 0.7667\n",
      "Epoch 5/10\n",
      "110288/110288 [==============================] - 20s 179us/step - loss: 0.7126 - acc: 0.7643 - val_loss: nan - val_acc: 0.7714\n",
      "Epoch 6/10\n",
      "110288/110288 [==============================] - 20s 182us/step - loss: 0.6759 - acc: 0.7753 - val_loss: nan - val_acc: 0.7813\n",
      "Epoch 7/10\n",
      "110288/110288 [==============================] - 20s 179us/step - loss: 0.6457 - acc: 0.7849 - val_loss: nan - val_acc: 0.7913\n",
      "Epoch 8/10\n",
      "110288/110288 [==============================] - 22s 195us/step - loss: 0.6182 - acc: 0.7936 - val_loss: nan - val_acc: 0.7991\n",
      "Epoch 9/10\n",
      "110288/110288 [==============================] - 21s 189us/step - loss: 0.6006 - acc: 0.7989 - val_loss: nan - val_acc: 0.8088\n",
      "Epoch 10/10\n",
      "110288/110288 [==============================] - 20s 184us/step - loss: 0.5794 - acc: 0.8048 - val_loss: nan - val_acc: 0.7859\n",
      "new jersey est parfois parfois en mois de et il est beau en en <PAD> <PAD> <PAD> <PAD> <PAD> <PAD> <PAD>\n"
     ]
    }
   ],
   "source": [
    "def simple_model(input_shape, output_sequence_length, english_vocab_size, french_vocab_size):\n",
    "    \"\"\"\n",
    "    Build and train a basic RNN on x and y\n",
    "    :param input_shape: Tuple of input shape\n",
    "    :param output_sequence_length: Length of output sequence\n",
    "    :param english_vocab_size: Number of unique English words in the dataset\n",
    "    :param french_vocab_size: Number of unique French words in the dataset\n",
    "    :return: Keras model built, but not trained\n",
    "    \"\"\"\n",
    "    # TODO: Build the layers\n",
    "    \n",
    "    inp_seq =Input(input_shape[1:])\n",
    "    print(inp_seq)\n",
    "    rnn=CuDNNLSTM(256,return_sequences=True)(inp_seq)\n",
    "    logits=TimeDistributed(Dense(french_vocab_size))(rnn)\n",
    "    cost=Activation('softmax')(logits)\n",
    "    model=Model(inp_seq,cost)\n",
    "    learning_rate=1e-3\n",
    "    model.compile(loss=sparse_categorical_crossentropy,\n",
    "                  optimizer=Adam(learning_rate),\n",
    "                  metrics=['accuracy'])\n",
    "    return model\n",
    "tests.test_simple_model(simple_model)\n",
    "\n",
    "# Reshaping the input to work with a basic RNN\n",
    "tmp_x = pad(preproc_english_sentences, max_french_sequence_length)\n",
    "tmp_x = tmp_x.reshape((-1, preproc_french_sentences.shape[-2], 1))\n",
    "\n",
    "# Train the neural network\n",
    "simple_rnn_model = simple_model(\n",
    "    tmp_x.shape,\n",
    "    max_french_sequence_length,\n",
    "    english_vocab_size,\n",
    "    french_vocab_size)\n",
    "#ORIG BATCH SIZE=1024\n",
    "simple_rnn_model.fit(tmp_x, preproc_french_sentences, batch_size=32, epochs=10, validation_split=0.2)\n",
    "\n",
    "# Print prediction(s)\n",
    "print(logits_to_text(simple_rnn_model.predict(tmp_x[:1])[0], french_tokenizer))"
   ]
  },
  {
   "cell_type": "markdown",
   "metadata": {},
   "source": [
    "### Model 2: Embedding (IMPLEMENTATION)\n",
    "![RNN](images/embedding.png)\n",
    "You've turned the words into ids, but there's a better representation of a word.  This is called word embeddings.  An embedding is a vector representation of the word that is close to similar words in n-dimensional space, where the n represents the size of the embedding vectors.\n",
    "\n",
    "In this model, you'll create a RNN model using embedding."
   ]
  },
  {
   "cell_type": "code",
   "execution_count": 18,
   "metadata": {},
   "outputs": [
    {
     "name": "stdout",
     "output_type": "stream",
     "text": [
      "Tensor(\"input_15:0\", shape=(?, 21), dtype=float32)\n",
      "Tensor(\"input_16:0\", shape=(?, 21), dtype=float32)\n",
      "Train on 110288 samples, validate on 27573 samples\n",
      "Epoch 1/10\n",
      "110288/110288 [==============================] - 23s 209us/step - loss: 0.7997 - acc: 0.7936 - val_loss: nan - val_acc: 0.8946\n",
      "Epoch 2/10\n",
      "110288/110288 [==============================] - 22s 195us/step - loss: 0.2754 - acc: 0.9080 - val_loss: nan - val_acc: 0.9183\n",
      "Epoch 3/10\n",
      "110288/110288 [==============================] - 22s 201us/step - loss: 0.2236 - acc: 0.9229 - val_loss: nan - val_acc: 0.9264\n",
      "Epoch 4/10\n",
      "110288/110288 [==============================] - 21s 195us/step - loss: 0.2015 - acc: 0.9291 - val_loss: nan - val_acc: 0.9281\n",
      "Epoch 5/10\n",
      "110288/110288 [==============================] - 20s 184us/step - loss: 0.1887 - acc: 0.9327 - val_loss: nan - val_acc: 0.9312\n",
      "Epoch 6/10\n",
      "110288/110288 [==============================] - 20s 184us/step - loss: 0.1811 - acc: 0.9347 - val_loss: nan - val_acc: 0.9342\n",
      "Epoch 7/10\n",
      "110288/110288 [==============================] - 22s 196us/step - loss: 0.1752 - acc: 0.9364 - val_loss: nan - val_acc: 0.9348\n",
      "Epoch 8/10\n",
      "110288/110288 [==============================] - 22s 198us/step - loss: 0.1708 - acc: 0.9377 - val_loss: nan - val_acc: 0.9345\n",
      "Epoch 9/10\n",
      "110288/110288 [==============================] - 20s 185us/step - loss: 0.1673 - acc: 0.9385 - val_loss: nan - val_acc: 0.9358\n",
      "Epoch 10/10\n",
      "110288/110288 [==============================] - 21s 194us/step - loss: 0.1643 - acc: 0.9392 - val_loss: nan - val_acc: 0.9366\n",
      "new jersey est parfois calme en l' automne et il est neigeux en avril <PAD> <PAD> <PAD> <PAD> <PAD> <PAD> <PAD>\n"
     ]
    }
   ],
   "source": [
    "def embed_model(input_shape, output_sequence_length, english_vocab_size, french_vocab_size):\n",
    "    \"\"\"\n",
    "    Build and train a RNN model using word embedding on x and y\n",
    "    :param input_shape: Tuple of input shape\n",
    "    :param output_sequence_length: Length of output sequence\n",
    "    :param english_vocab_size: Number of unique English words in the dataset\n",
    "    :param french_vocab_size: Number of unique French words in the dataset\n",
    "    :return: Keras model built, but not trained\n",
    "    \"\"\"\n",
    "    # TODO: Implement\n",
    "    \n",
    "    inp_seq =Input(input_shape[1:])\n",
    "    print(inp_seq)\n",
    "    embed=Embedding(input_dim=english_vocab_size,output_dim=64,input_length=output_sequence_length)(inp_seq)\n",
    "    rnn=CuDNNLSTM(256,return_sequences=True)(embed)\n",
    "    logits=TimeDistributed(Dense(french_vocab_size))(rnn)\n",
    "    cost=Activation('softmax')(logits)\n",
    "    model=Model(inp_seq,cost)\n",
    "    learning_rate=1e-3\n",
    "    model.compile(loss=sparse_categorical_crossentropy,optimizer=Adam(1e-3),metrics=['accuracy'])\n",
    "    return model\n",
    "tests.test_embed_model(embed_model)\n",
    "\n",
    "\n",
    "# TODO: Reshape the input\n",
    "\n",
    "tmp_x = pad(preproc_english_sentences, max_french_sequence_length)\n",
    "\n",
    "# Train the neural network\n",
    "rnn_embed_model = embed_model(tmp_x.shape,max_french_sequence_length,english_vocab_size,french_vocab_size)\n",
    "# TODO: Train the neural network\n",
    "rnn_embed_model.fit(tmp_x,preproc_french_sentences,epochs=10,batch_size=32,validation_split=0.2)\n",
    "# TODO: Print prediction(s)\n",
    "print(logits_to_text(rnn_embed_model.predict(tmp_x[:1])[0],french_tokenizer))"
   ]
  },
  {
   "cell_type": "markdown",
   "metadata": {},
   "source": [
    "### Model 3: Bidirectional RNNs (IMPLEMENTATION)\n",
    "![RNN](images/bidirectional.png)\n",
    "One restriction of a RNN is that it can't see the future input, only the past.  This is where bidirectional recurrent neural networks come in.  They are able to see the future data."
   ]
  },
  {
   "cell_type": "code",
   "execution_count": 19,
   "metadata": {},
   "outputs": [
    {
     "name": "stdout",
     "output_type": "stream",
     "text": [
      "Train on 110288 samples, validate on 27573 samples\n",
      "Epoch 1/10\n",
      "110288/110288 [==============================] - 29s 266us/step - loss: 1.1414 - acc: 0.6646 - val_loss: nan - val_acc: 0.6983\n",
      "Epoch 2/10\n",
      "110288/110288 [==============================] - 28s 256us/step - loss: 0.8580 - acc: 0.7180 - val_loss: nan - val_acc: 0.7429\n",
      "Epoch 3/10\n",
      "110288/110288 [==============================] - 28s 252us/step - loss: 0.7342 - acc: 0.7524 - val_loss: nan - val_acc: 0.7574\n",
      "Epoch 4/10\n",
      "110288/110288 [==============================] - 27s 244us/step - loss: 0.6464 - acc: 0.7802 - val_loss: nan - val_acc: 0.7908\n",
      "Epoch 5/10\n",
      "110288/110288 [==============================] - 27s 248us/step - loss: 0.5955 - acc: 0.7966 - val_loss: nan - val_acc: 0.8109\n",
      "Epoch 6/10\n",
      "110288/110288 [==============================] - 27s 248us/step - loss: 0.5521 - acc: 0.8110 - val_loss: nan - val_acc: 0.8063\n",
      "Epoch 7/10\n",
      "110288/110288 [==============================] - 27s 241us/step - loss: 0.5222 - acc: 0.8210 - val_loss: nan - val_acc: 0.8276\n",
      "Epoch 8/10\n",
      "110288/110288 [==============================] - 28s 253us/step - loss: 0.4904 - acc: 0.8315 - val_loss: nan - val_acc: 0.8352\n",
      "Epoch 9/10\n",
      "110288/110288 [==============================] - 28s 253us/step - loss: 0.4717 - acc: 0.8381 - val_loss: nan - val_acc: 0.8468\n",
      "Epoch 10/10\n",
      "110288/110288 [==============================] - 27s 249us/step - loss: 0.4480 - acc: 0.8465 - val_loss: nan - val_acc: 0.8492\n",
      "new jersey est parfois calme au l' de et il est neigeux en avril <PAD> <PAD> <PAD> <PAD> <PAD> <PAD> <PAD>\n"
     ]
    }
   ],
   "source": [
    "def bd_model(input_shape, output_sequence_length, english_vocab_size, french_vocab_size):\n",
    "    \"\"\"\n",
    "    Build and train a bidirectional RNN model on x and y\n",
    "    :param input_shape: Tuple of input shape\n",
    "    :param output_sequence_length: Length of output sequence\n",
    "    :param english_vocab_size: Number of unique English words in the dataset\n",
    "    :param french_vocab_size: Number of unique French words in the dataset\n",
    "    :return: Keras model built, but not trained\n",
    "    \"\"\"\n",
    "    # TODO: Implement\n",
    "    inp_seq=Input(input_shape[1:])\n",
    "    rnn=Bidirectional(CuDNNLSTM(256,return_sequences=True))(inp_seq)\n",
    "    logits=TimeDistributed(Dense(french_vocab_size))(rnn)\n",
    "    cost=Activation('softmax')(logits)\n",
    "    model=Model(inp_seq,cost)\n",
    "    model.compile(loss=sparse_categorical_crossentropy,optimizer=Adam(1e-3),metrics=['accuracy'])\n",
    "    return model\n",
    "tests.test_bd_model(bd_model)\n",
    "#logic behind is to pad Train X and have rows equal to french max sequence length\n",
    "tmp_x=pad(preproc_english_sentences,max_french_sequence_length)\n",
    "tmp_x=tmp_x.reshape(-1,tmp_x.shape[1],1)\n",
    "\n",
    "rnn_bd_model=bd_model(tmp_x.shape,max_french_sequence_length,english_vocab_size,french_vocab_size)\n",
    "rnn_bd_model.fit(tmp_x,preproc_french_sentences,batch_size=32,epochs=10,validation_split=0.2)\n",
    "# TODO: Train and Print prediction(s)\n",
    "print(logits_to_text(rnn_bd_model.predict(tmp_x[:1])[0],french_tokenizer))"
   ]
  },
  {
   "cell_type": "markdown",
   "metadata": {},
   "source": [
    "### Model 4: Encoder-Decoder (OPTIONAL)\n",
    "Time to look at encoder-decoder models.  This model is made up of an encoder and decoder. The encoder creates a matrix representation of the sentence.  The decoder takes this matrix as input and predicts the translation as output.\n",
    "\n",
    "Create an encoder-decoder model in the cell below."
   ]
  },
  {
   "cell_type": "code",
   "execution_count": 16,
   "metadata": {},
   "outputs": [
    {
     "name": "stdout",
     "output_type": "stream",
     "text": [
      "Train on 110288 samples, validate on 27573 samples\n",
      "Epoch 1/10\n",
      "110288/110288 [==============================] - 29s 262us/step - loss: 1.4316 - acc: 0.6121 - val_loss: nan - val_acc: 0.6621\n",
      "Epoch 2/10\n",
      "110288/110288 [==============================] - 28s 256us/step - loss: 1.0342 - acc: 0.6766 - val_loss: nan - val_acc: 0.6904\n",
      "Epoch 3/10\n",
      "110288/110288 [==============================] - 28s 254us/step - loss: 0.8853 - acc: 0.7018 - val_loss: nan - val_acc: 0.7151\n",
      "Epoch 4/10\n",
      "110288/110288 [==============================] - 28s 255us/step - loss: 0.7373 - acc: 0.7428 - val_loss: nan - val_acc: 0.7724\n",
      "Epoch 5/10\n",
      "110288/110288 [==============================] - 28s 254us/step - loss: 0.6364 - acc: 0.7730 - val_loss: nan - val_acc: 0.7822\n",
      "Epoch 6/10\n",
      "110288/110288 [==============================] - 28s 252us/step - loss: 0.5597 - acc: 0.7943 - val_loss: nan - val_acc: 0.7849\n",
      "Epoch 7/10\n",
      "110288/110288 [==============================] - 29s 259us/step - loss: 0.5242 - acc: 0.8035 - val_loss: nan - val_acc: 0.8165\n",
      "Epoch 8/10\n",
      "110288/110288 [==============================] - 29s 259us/step - loss: 0.4795 - acc: 0.8185 - val_loss: nan - val_acc: 0.8380\n",
      "Epoch 9/10\n",
      "110288/110288 [==============================] - 29s 259us/step - loss: 0.4465 - acc: 0.8307 - val_loss: nan - val_acc: 0.8398\n",
      "Epoch 10/10\n",
      "110288/110288 [==============================] - 29s 267us/step - loss: 0.4287 - acc: 0.8372 - val_loss: nan - val_acc: 0.8327\n",
      "new jersey est parfois parfois au cours automne il il neigeux en en neigeux <PAD> <PAD> <PAD> <PAD> <PAD> <PAD> <PAD>\n"
     ]
    }
   ],
   "source": [
    "#ONESHOT METHOD\n",
    "def encdec_model(input_shape, output_sequence_length, english_vocab_size, french_vocab_size):\n",
    "    \"\"\"\n",
    "    Build and train an encoder-decoder model on x and y\n",
    "    :param input_shape: Tuple of input shape\n",
    "    :param output_sequence_length: Length of output sequence\n",
    "    :param english_vocab_size: Number of unique English words in the dataset\n",
    "    :param french_vocab_size: Number of unique French words in the dataset\n",
    "    :return: Keras model built, but not trained\n",
    "    \"\"\"\n",
    "    # OPTIONAL: Implement\n",
    "    enc_inp=Input(input_shape[1:])\n",
    "    enc_rnn=CuDNNLSTM(256)(enc_inp)\n",
    "    enc_vec=RepeatVector(output_sequence_length)(enc_rnn)\n",
    "    dec_rnn=CuDNNLSTM(256,return_sequences=True)(enc_vec)\n",
    "    logits=TimeDistributed(Dense(french_vocab_size))(dec_rnn)\n",
    "    cost=Activation('softmax')(logits)\n",
    "    \n",
    "    model=Model(enc_inp,cost)\n",
    "    model.compile(loss=sparse_categorical_crossentropy,optimizer=Adam(1e-3),metrics=['accuracy'])\n",
    "    \n",
    "    return model\n",
    "\n",
    "tests.test_encdec_model(encdec_model)\n",
    "\n",
    "tmp_x=pad(preproc_english_sentences,max_french_sequence_length)\n",
    "tmp_x=tmp_x.reshape(-1,tmp_x.shape[1],1)\n",
    "\n",
    "ecdc_model=encdec_model(tmp_x.shape,max_french_sequence_length,english_vocab_size,french_vocab_size)\n",
    "ecdc_model.fit(tmp_x,preproc_french_sentences,batch_size=32,epochs=10,validation_split=0.2)\n",
    "# OPTIONAL: Train and Print prediction(s)\n",
    "print(logits_to_text(ecdc_model.predict(tmp_x[:1])[0],french_tokenizer))"
   ]
  },
  {
   "cell_type": "markdown",
   "metadata": {},
   "source": [
    "### Model 5: Custom (IMPLEMENTATION)\n",
    "Use everything you learned from the previous models to create a model that incorporates embedding and a bidirectional rnn into one model."
   ]
  },
  {
   "cell_type": "code",
   "execution_count": 20,
   "metadata": {},
   "outputs": [
    {
     "name": "stdout",
     "output_type": "stream",
     "text": [
      "Final Model Loaded\n",
      "Train on 110288 samples, validate on 27573 samples\n",
      "Epoch 1/10\n",
      "110288/110288 [==============================] - 50s 456us/step - loss: 0.9241 - acc: 0.7441 - val_loss: nan - val_acc: 0.8724\n",
      "Epoch 2/10\n",
      "110288/110288 [==============================] - 46s 418us/step - loss: 0.2677 - acc: 0.9153 - val_loss: nan - val_acc: 0.9423\n",
      "Epoch 3/10\n",
      "110288/110288 [==============================] - 46s 415us/step - loss: 0.1587 - acc: 0.9477 - val_loss: nan - val_acc: 0.9553\n",
      "Epoch 4/10\n",
      "110288/110288 [==============================] - 47s 431us/step - loss: 0.1191 - acc: 0.9607 - val_loss: nan - val_acc: 0.9664\n",
      "Epoch 5/10\n",
      "110288/110288 [==============================] - 47s 426us/step - loss: 0.0934 - acc: 0.9695 - val_loss: nan - val_acc: 0.9633\n",
      "Epoch 6/10\n",
      "110288/110288 [==============================] - 47s 423us/step - loss: 0.0763 - acc: 0.9750 - val_loss: nan - val_acc: 0.9715\n",
      "Epoch 7/10\n",
      "110288/110288 [==============================] - 46s 420us/step - loss: 0.0646 - acc: 0.9790 - val_loss: nan - val_acc: 0.9779\n",
      "Epoch 8/10\n",
      "110288/110288 [==============================] - 46s 416us/step - loss: 0.0559 - acc: 0.9819 - val_loss: nan - val_acc: 0.9646\n",
      "Epoch 9/10\n",
      "110288/110288 [==============================] - 46s 420us/step - loss: 0.0486 - acc: 0.9842 - val_loss: nan - val_acc: 0.9790\n",
      "Epoch 10/10\n",
      "110288/110288 [==============================] - 47s 422us/step - loss: 0.0438 - acc: 0.9860 - val_loss: nan - val_acc: 0.9787\n",
      "new jersey est parfois calme pendant l'automne automne et il est neigeux en avril <PAD> <PAD> <PAD> <PAD> <PAD> <PAD> <PAD>\n"
     ]
    }
   ],
   "source": [
    "def model_final(input_shape, output_sequence_length, english_vocab_size, french_vocab_size):\n",
    "    \"\"\"\n",
    "    Build and train a model that incorporates embedding, encoder-decoder, and bidirectional RNN on x and y\n",
    "    :param input_shape: Tuple of input shape\n",
    "    :param output_sequence_length: Length of output sequence\n",
    "    :param english_vocab_size: Number of unique English words in the dataset\n",
    "    :param french_vocab_size: Number of unique French words in the dataset\n",
    "    :return: Keras model built, but not trained\n",
    "    \"\"\"\n",
    "    # TODO: Implement\n",
    "    inp_seq=Input(input_shape[1:])\n",
    "    embed=Embedding(input_dim=english_vocab_size,output_dim=64,input_length=output_sequence_length)(inp_seq)\n",
    "    enc_rnn=Bidirectional(CuDNNLSTM(256))(embed)\n",
    "    enc_vec=RepeatVector(output_sequence_length)(enc_rnn)\n",
    "    dec_rnn=Bidirectional(CuDNNLSTM(256,return_sequences=True))(enc_vec)\n",
    "    logits=TimeDistributed(Dense(french_vocab_size,))(dec_rnn)\n",
    "    cost=Activation('softmax')(logits)\n",
    "    \n",
    "    model=Model(inp_seq,cost)\n",
    "    model.compile(loss=sparse_categorical_crossentropy,optimizer=Adam(1e-3),metrics=['accuracy'])\n",
    "    return model\n",
    "tests.test_model_final(model_final)\n",
    "\n",
    "tmp_x=pad(preproc_english_sentences,max_french_sequence_length)\n",
    "\n",
    "rnn_model_final=model_final(tmp_x.shape,max_french_sequence_length,english_vocab_size,french_vocab_size)\n",
    "\n",
    "\n",
    "print('Final Model Loaded')\n",
    "# TODO: Train the final model\n",
    "rnn_model_final.fit(tmp_x,preproc_french_sentences,batch_size=32,epochs=10,validation_split=0.2)\n",
    "print(logits_to_text(rnn_model_final.predict(tmp_x[:1])[0],french_tokenizer))"
   ]
  },
  {
   "cell_type": "markdown",
   "metadata": {},
   "source": [
    "## Prediction (IMPLEMENTATION)"
   ]
  },
  {
   "cell_type": "code",
   "execution_count": 75,
   "metadata": {
    "scrolled": true
   },
   "outputs": [
    {
     "name": "stdout",
     "output_type": "stream",
     "text": [
      "Train on 110288 samples, validate on 27573 samples\n",
      "Epoch 1/10\n",
      "110288/110288 [==============================] - 45s 412us/step - loss: 0.9251 - acc: 0.7433 - val_loss: nan - val_acc: 0.8809\n",
      "Epoch 2/10\n",
      "110288/110288 [==============================] - 43s 387us/step - loss: 0.2507 - acc: 0.9203 - val_loss: nan - val_acc: 0.9442\n",
      "Epoch 3/10\n",
      "110288/110288 [==============================] - 42s 385us/step - loss: 0.1498 - acc: 0.9510 - val_loss: nan - val_acc: 0.9567\n",
      "Epoch 4/10\n",
      "110288/110288 [==============================] - 43s 390us/step - loss: 0.1089 - acc: 0.9645 - val_loss: nan - val_acc: 0.9659\n",
      "Epoch 5/10\n",
      "110288/110288 [==============================] - 43s 386us/step - loss: 0.0827 - acc: 0.9730 - val_loss: nan - val_acc: 0.9738\n",
      "Epoch 6/10\n",
      "110288/110288 [==============================] - 42s 384us/step - loss: 0.0688 - acc: 0.9779 - val_loss: nan - val_acc: 0.9756\n",
      "Epoch 7/10\n",
      "110288/110288 [==============================] - 42s 385us/step - loss: 0.0588 - acc: 0.9812 - val_loss: nan - val_acc: 0.9770\n",
      "Epoch 8/10\n",
      "110288/110288 [==============================] - 42s 385us/step - loss: 0.0497 - acc: 0.9840 - val_loss: nan - val_acc: 0.9757\n",
      "Epoch 9/10\n",
      "110288/110288 [==============================] - 42s 384us/step - loss: 0.0440 - acc: 0.9859 - val_loss: nan - val_acc: 0.9813\n",
      "Epoch 10/10\n",
      "110288/110288 [==============================] - 44s 402us/step - loss: 0.0370 - acc: 0.9882 - val_loss: nan - val_acc: 0.9804\n",
      "Sample 1:\n",
      "il a vu un vieux camion jaune <PAD> <PAD> <PAD> <PAD> <PAD> <PAD> <PAD> <PAD> <PAD> <PAD> <PAD> <PAD> <PAD> <PAD>\n",
      "Il a vu un vieux camion jaune\n",
      "Sample 2:\n",
      "new jersey est parfois calme pendant l' automne et il est neigeux en avril <PAD> <PAD> <PAD> <PAD> <PAD> <PAD> <PAD>\n",
      "new jersey est parfois calme pendant l' automne et il est neigeux en avril <PAD> <PAD> <PAD> <PAD> <PAD> <PAD> <PAD>\n"
     ]
    }
   ],
   "source": [
    "def final_predictions(x, y, x_tk, y_tk):\n",
    "    \"\"\"\n",
    "    Gets predictions using the final model\n",
    "    :param x: Preprocessed English data\n",
    "    :param y: Preprocessed French data\n",
    "    :param x_tk: English tokenizer\n",
    "    :param y_tk: French tokenizer\n",
    "    \"\"\"\n",
    "    # TODO: Train neural network using model_final\n",
    "    #tmp_x=pad(x,max_french_sequence_length)\n",
    "   # print(tmp_x.shape)\n",
    "    model=model_final(x.shape,y.shape[1],len(x_tk.word_index),len(y_tk.word_index))\n",
    "    model.fit(x,y,batch_size=32,epochs=10,validation_split=0.2)\n",
    "    \n",
    "    ## DON'T EDIT ANYTHING BELOW THIS LINE\n",
    "    y_id_to_word = {value: key for key, value in y_tk.word_index.items()}\n",
    "    y_id_to_word[0] = '<PAD>'\n",
    "\n",
    "    sentence = 'he saw a old yellow truck'\n",
    "    sentence = [x_tk.word_index[word] for word in sentence.split()]\n",
    "    sentence = pad_sequences([sentence], maxlen=x.shape[-1], padding='post')\n",
    "    sentences = np.array([sentence[0], x[0]])\n",
    "    predictions = model.predict(sentences, len(sentences))\n",
    "\n",
    "    print('Sample 1:')\n",
    "    print(' '.join([y_id_to_word[np.argmax(x)] for x in predictions[0]]))\n",
    "    print('Il a vu un vieux camion jaune')\n",
    "    print('Sample 2:')\n",
    "    print(' '.join([y_id_to_word[np.argmax(x)] for x in predictions[1]]))\n",
    "    print(' '.join([y_id_to_word[np.max(x)] for x in y[0]]))\n",
    "\n",
    "\n",
    "final_predictions(preproc_english_sentences, preproc_french_sentences, english_tokenizer, french_tokenizer)"
   ]
  },
  {
   "cell_type": "markdown",
   "metadata": {},
   "source": [
    "## Optional Enhancements\n",
    "\n",
    "This project focuses on learning various network architectures for machine translation, but we don't evaluate the models according to best practices by splitting the data into separate test & training sets -- so the model accuracy is overstated. Use the [`sklearn.model_selection.train_test_split()`](http://scikit-learn.org/stable/modules/generated/sklearn.model_selection.train_test_split.html) function to create separate training & test datasets, then retrain each of the models using only the training set and evaluate the prediction accuracy using the hold out test set. Does the \"best\" model change?"
   ]
  },
  {
   "cell_type": "markdown",
   "metadata": {},
   "source": [
    "**Answer:** To my surprise, creating a train,test and validation split did not change the end results. The accuracy for both the training and validation set had no significant impact."
   ]
  },
  {
   "cell_type": "code",
   "execution_count": 76,
   "metadata": {},
   "outputs": [
    {
     "name": "stdout",
     "output_type": "stream",
     "text": [
      "(110288, 21) (110288, 21, 1)\n",
      "(13786, 21) (13786, 21, 1)\n",
      "(13787, 21) (13787, 21, 1)\n"
     ]
    },
    {
     "name": "stderr",
     "output_type": "stream",
     "text": [
      "C:\\Users\\ndrs\\Anaconda3\\lib\\site-packages\\sklearn\\model_selection\\_split.py:2026: FutureWarning: From version 0.21, test_size will always complement train_size unless both are specified.\n",
      "  FutureWarning)\n"
     ]
    }
   ],
   "source": [
    "from sklearn.model_selection import train_test_split\n",
    "from sklearn.metrics import accuracy_score\n",
    "tmp_x=pad(preproc_english_sentences,max_french_sequence_length)\n",
    "\n",
    "x_train,x_test,y_train,y_test=train_test_split(tmp_x,preproc_french_sentences,train_size=0.8,random_state=54)\n",
    "x_test,x_val,y_test,y_val=train_test_split(x_test,y_test,train_size=0.5,random_state=54)\n",
    "print(x_train.shape,y_train.shape)\n",
    "print(x_test.shape,y_test.shape)\n",
    "print(x_val.shape,y_val.shape)"
   ]
  },
  {
   "cell_type": "code",
   "execution_count": 77,
   "metadata": {},
   "outputs": [],
   "source": [
    "def evaluate_pred(y_true,y_pred):\n",
    "    pred_list=[[[np.argmax(x)] for x in prediction] for prediction in y_pred]\n",
    "    acc_list=[accuracy_score(y_true[i],pred_list[i])for i in range(len(y_true))]\n",
    "    print('Mean Accuracy',np.mean(acc_list))"
   ]
  },
  {
   "cell_type": "code",
   "execution_count": 78,
   "metadata": {},
   "outputs": [
    {
     "name": "stdout",
     "output_type": "stream",
     "text": [
      "Tensor(\"input_42:0\", shape=(?, 21, 1), dtype=float32)\n",
      "Train on 110288 samples, validate on 13787 samples\n",
      "Epoch 1/10\n",
      "110288/110288 [==============================] - 24s 218us/step - loss: 1.2894 - acc: 0.6366 - val_loss: nan - val_acc: 0.6681\n",
      "Epoch 2/10\n",
      "110288/110288 [==============================] - 20s 183us/step - loss: 0.9628 - acc: 0.6949 - val_loss: nan - val_acc: 0.7196\n",
      "Epoch 3/10\n",
      "110288/110288 [==============================] - 20s 183us/step - loss: 0.8304 - acc: 0.7326 - val_loss: nan - val_acc: 0.7359\n",
      "Epoch 4/10\n",
      "110288/110288 [==============================] - 22s 199us/step - loss: 0.7618 - acc: 0.7503 - val_loss: nan - val_acc: 0.7576\n",
      "Epoch 5/10\n",
      "110288/110288 [==============================] - 20s 184us/step - loss: 0.7140 - acc: 0.7645 - val_loss: nan - val_acc: 0.7653\n",
      "Epoch 6/10\n",
      "110288/110288 [==============================] - 20s 183us/step - loss: 0.6790 - acc: 0.7748 - val_loss: nan - val_acc: 0.7809\n",
      "Epoch 7/10\n",
      "110288/110288 [==============================] - 21s 190us/step - loss: 0.6489 - acc: 0.7846 - val_loss: nan - val_acc: 0.7954\n",
      "Epoch 8/10\n",
      "110288/110288 [==============================] - 21s 194us/step - loss: 0.6231 - acc: 0.7922 - val_loss: nan - val_acc: 0.8008\n",
      "Epoch 9/10\n",
      "110288/110288 [==============================] - 22s 200us/step - loss: 0.6004 - acc: 0.7992 - val_loss: nan - val_acc: 0.7955\n",
      "Epoch 10/10\n",
      "110288/110288 [==============================] - 20s 180us/step - loss: 0.5817 - acc: 0.8054 - val_loss: nan - val_acc: 0.8055\n",
      "Mean Accuracy 0.8078899919172658\n"
     ]
    }
   ],
   "source": [
    "#Simple Model\n",
    "tmp_x_train=x_train.reshape(-1,x_train.shape[1],1)\n",
    "tmp_x_test=x_test.reshape(-1,x_test.shape[1],1)\n",
    "tmp_x_val=x_val.reshape(-1,x_val.shape[1],1)\n",
    "\n",
    "simple_rnn=simple_model(tmp_x_train.shape,max_french_sequence_length,english_vocab_size,french_vocab_size)\n",
    "simple_rnn.fit(tmp_x_train,y_train,batch_size=32,epochs=10,validation_data=(tmp_x_val,y_val))\n",
    "predictions=simple_rnn.predict(tmp_x_test)\n",
    "evaluate_pred(y_test,predictions)"
   ]
  },
  {
   "cell_type": "code",
   "execution_count": 79,
   "metadata": {},
   "outputs": [
    {
     "name": "stdout",
     "output_type": "stream",
     "text": [
      "Tensor(\"input_43:0\", shape=(?, 21), dtype=float32)\n",
      "Train on 110288 samples, validate on 13787 samples\n",
      "Epoch 1/10\n",
      "110288/110288 [==============================] - 23s 209us/step - loss: 0.8114 - acc: 0.7912 - val_loss: nan - val_acc: 0.8885\n",
      "Epoch 2/10\n",
      "110288/110288 [==============================] - 22s 199us/step - loss: 0.2799 - acc: 0.9073 - val_loss: nan - val_acc: 0.9168\n",
      "Epoch 3/10\n",
      "110288/110288 [==============================] - 22s 201us/step - loss: 0.2275 - acc: 0.9217 - val_loss: nan - val_acc: 0.9199\n",
      "Epoch 4/10\n",
      "110288/110288 [==============================] - 22s 196us/step - loss: 0.2028 - acc: 0.9288 - val_loss: nan - val_acc: 0.9298\n",
      "Epoch 5/10\n",
      "110288/110288 [==============================] - 25s 224us/step - loss: 0.1908 - acc: 0.9323 - val_loss: nan - val_acc: 0.9310\n",
      "Epoch 6/10\n",
      "110288/110288 [==============================] - 24s 218us/step - loss: 0.1816 - acc: 0.9346 - val_loss: nan - val_acc: 0.9304\n",
      "Epoch 7/10\n",
      "110288/110288 [==============================] - 24s 219us/step - loss: 0.1755 - acc: 0.9363 - val_loss: nan - val_acc: 0.9327\n",
      "Epoch 8/10\n",
      "110288/110288 [==============================] - 23s 209us/step - loss: 0.1714 - acc: 0.9375 - val_loss: nan - val_acc: 0.9338\n",
      "Epoch 9/10\n",
      "110288/110288 [==============================] - 23s 206us/step - loss: 0.1668 - acc: 0.9387 - val_loss: nan - val_acc: 0.9347\n",
      "Epoch 10/10\n",
      "110288/110288 [==============================] - 23s 206us/step - loss: 0.1650 - acc: 0.9392 - val_loss: nan - val_acc: 0.9349\n",
      "Mean Accuracy 0.9366956125261654\n"
     ]
    }
   ],
   "source": [
    "embed_rnn=embed_model(x_train.shape,max_french_sequence_length,english_vocab_size,french_vocab_size)\n",
    "embed_rnn.fit(x_train,y_train,batch_size=32,epochs=10,validation_data=(x_val,y_val))\n",
    "predictions=embed_rnn.predict(x_test)\n",
    "evaluate_pred(y_test,predictions)"
   ]
  },
  {
   "cell_type": "code",
   "execution_count": 80,
   "metadata": {},
   "outputs": [
    {
     "name": "stdout",
     "output_type": "stream",
     "text": [
      "Train on 110288 samples, validate on 13787 samples\n",
      "Epoch 1/10\n",
      "110288/110288 [==============================] - 32s 286us/step - loss: 1.1390 - acc: 0.6652 - val_loss: nan - val_acc: 0.6929\n",
      "Epoch 2/10\n",
      "110288/110288 [==============================] - 30s 270us/step - loss: 0.8501 - acc: 0.7208 - val_loss: nan - val_acc: 0.7164\n",
      "Epoch 3/10\n",
      "110288/110288 [==============================] - 28s 257us/step - loss: 0.7194 - acc: 0.7555 - val_loss: nan - val_acc: 0.7693\n",
      "Epoch 4/10\n",
      "110288/110288 [==============================] - 28s 256us/step - loss: 0.6426 - acc: 0.7782 - val_loss: nan - val_acc: 0.7933\n",
      "Epoch 5/10\n",
      "110288/110288 [==============================] - 28s 255us/step - loss: 0.5907 - acc: 0.7969 - val_loss: nan - val_acc: 0.8031\n",
      "Epoch 6/10\n",
      "110288/110288 [==============================] - 28s 255us/step - loss: 0.5391 - acc: 0.8151 - val_loss: nan - val_acc: 0.8222\n",
      "Epoch 7/10\n",
      "110288/110288 [==============================] - 28s 255us/step - loss: 0.5034 - acc: 0.8272 - val_loss: nan - val_acc: 0.8325\n",
      "Epoch 8/10\n",
      "110288/110288 [==============================] - 29s 263us/step - loss: 0.4726 - acc: 0.8376 - val_loss: nan - val_acc: 0.8281\n",
      "Epoch 9/10\n",
      "110288/110288 [==============================] - 28s 258us/step - loss: 0.4523 - acc: 0.8440 - val_loss: nan - val_acc: 0.8492\n",
      "Epoch 10/10\n",
      "110288/110288 [==============================] - 28s 256us/step - loss: 0.4331 - acc: 0.8505 - val_loss: nan - val_acc: 0.8578\n",
      "Mean Accuracy 0.8610736910461269\n"
     ]
    }
   ],
   "source": [
    "bd_rnn=bd_model(tmp_x_train.shape,max_french_sequence_length,english_vocab_size,french_vocab_size)\n",
    "bd_rnn.fit(tmp_x_train,y_train,batch_size=32,epochs=10,validation_data=(tmp_x_val,y_val))\n",
    "predictions=bd_rnn.predict(tmp_x_test)\n",
    "evaluate_pred(y_test,predictions)"
   ]
  },
  {
   "cell_type": "code",
   "execution_count": 81,
   "metadata": {},
   "outputs": [
    {
     "name": "stdout",
     "output_type": "stream",
     "text": [
      "Train on 110288 samples, validate on 13787 samples\n",
      "Epoch 1/10\n",
      "110288/110288 [==============================] - 32s 292us/step - loss: 1.4578 - acc: 0.6060 - val_loss: nan - val_acc: 0.6419\n",
      "Epoch 2/10\n",
      "110288/110288 [==============================] - 29s 265us/step - loss: 1.0604 - acc: 0.6700 - val_loss: nan - val_acc: 0.6968\n",
      "Epoch 3/10\n",
      "110288/110288 [==============================] - 29s 267us/step - loss: 0.9284 - acc: 0.7030 - val_loss: nan - val_acc: 0.7267\n",
      "Epoch 4/10\n",
      "110288/110288 [==============================] - 30s 268us/step - loss: 0.8299 - acc: 0.7326 - val_loss: nan - val_acc: 0.7401\n",
      "Epoch 5/10\n",
      "110288/110288 [==============================] - 29s 259us/step - loss: 0.7590 - acc: 0.7535 - val_loss: nan - val_acc: 0.7668\n",
      "Epoch 6/10\n",
      "110288/110288 [==============================] - 29s 259us/step - loss: 0.7146 - acc: 0.7631 - val_loss: nan - val_acc: 0.7750\n",
      "Epoch 7/10\n",
      "110288/110288 [==============================] - 28s 257us/step - loss: 0.6664 - acc: 0.7739 - val_loss: nan - val_acc: 0.7839\n",
      "Epoch 8/10\n",
      "110288/110288 [==============================] - 28s 258us/step - loss: 0.6054 - acc: 0.7835 - val_loss: nan - val_acc: 0.7773\n",
      "Epoch 9/10\n",
      "110288/110288 [==============================] - 28s 258us/step - loss: 0.5664 - acc: 0.7917 - val_loss: nan - val_acc: 0.7927\n",
      "Epoch 10/10\n",
      "110288/110288 [==============================] - 29s 259us/step - loss: 0.5428 - acc: 0.7970 - val_loss: nan - val_acc: 0.8166\n",
      "Mean Accuracy 0.8196099562703365\n"
     ]
    }
   ],
   "source": [
    "encdec_rnn=encdec_model(tmp_x_train.shape,max_french_sequence_length,english_vocab_size,french_vocab_size)\n",
    "encdec_rnn.fit(tmp_x_train,y_train,batch_size=32,epochs=10,validation_data=(tmp_x_val,y_val))\n",
    "predictions=encdec_rnn.predict(tmp_x_test)\n",
    "evaluate_pred(y_test,predictions)"
   ]
  },
  {
   "cell_type": "code",
   "execution_count": 82,
   "metadata": {},
   "outputs": [
    {
     "name": "stdout",
     "output_type": "stream",
     "text": [
      "Train on 110288 samples, validate on 13787 samples\n",
      "Epoch 1/10\n",
      "110288/110288 [==============================] - 50s 451us/step - loss: 0.9365 - acc: 0.7422 - val_loss: nan - val_acc: 0.8730\n",
      "Epoch 2/10\n",
      "110288/110288 [==============================] - 46s 420us/step - loss: 0.2746 - acc: 0.9138 - val_loss: nan - val_acc: 0.9381\n",
      "Epoch 3/10\n",
      "110288/110288 [==============================] - 46s 416us/step - loss: 0.1612 - acc: 0.9468 - val_loss: nan - val_acc: 0.9542\n",
      "Epoch 4/10\n",
      "110288/110288 [==============================] - 46s 420us/step - loss: 0.1200 - acc: 0.9604 - val_loss: nan - val_acc: 0.9616\n",
      "Epoch 5/10\n",
      "110288/110288 [==============================] - 46s 419us/step - loss: 0.0953 - acc: 0.9688 - val_loss: nan - val_acc: 0.9682\n",
      "Epoch 6/10\n",
      "110288/110288 [==============================] - 46s 419us/step - loss: 0.0773 - acc: 0.9748 - val_loss: nan - val_acc: 0.9738\n",
      "Epoch 7/10\n",
      "110288/110288 [==============================] - 46s 418us/step - loss: 0.0657 - acc: 0.9785 - val_loss: nan - val_acc: 0.9687\n",
      "Epoch 8/10\n",
      "110288/110288 [==============================] - 47s 422us/step - loss: 0.0580 - acc: 0.9814 - val_loss: nan - val_acc: 0.9758\n",
      "Epoch 9/10\n",
      "110288/110288 [==============================] - 46s 417us/step - loss: 0.0497 - acc: 0.9841 - val_loss: nan - val_acc: 0.9772\n",
      "Epoch 10/10\n",
      "110288/110288 [==============================] - 46s 418us/step - loss: 0.0428 - acc: 0.9862 - val_loss: nan - val_acc: 0.9796\n",
      "Mean Accuracy 0.9802491140079999\n"
     ]
    }
   ],
   "source": [
    "final_rnn=model_final(x_train.shape,max_french_sequence_length,english_vocab_size,french_vocab_size)\n",
    "final_rnn.fit(x_train,y_train,batch_size=32,epochs=10,validation_data=(x_val,y_val))\n",
    "predictions=final_rnn.predict(x_test)\n",
    "evaluate_pred(y_test,predictions)"
   ]
  },
  {
   "cell_type": "code",
   "execution_count": null,
   "metadata": {},
   "outputs": [],
   "source": []
  },
  {
   "cell_type": "code",
   "execution_count": null,
   "metadata": {},
   "outputs": [],
   "source": []
  },
  {
   "cell_type": "markdown",
   "metadata": {},
   "source": [
    "## Submission\n",
    "When you're ready to submit, complete the following steps:\n",
    "1. Review the [rubric](https://review.udacity.com/#!/rubrics/1004/view) to ensure your submission meets all requirements to pass\n",
    "2. Generate an HTML version of this notebook\n",
    "\n",
    "  - Run the next cell to attempt automatic generation (this is the recommended method in Workspaces)\n",
    "  - Navigate to **FILE -> Download as -> HTML (.html)**\n",
    "  - Manually generate a copy using `nbconvert` from your shell terminal\n",
    "```\n",
    "$ pip install nbconvert\n",
    "$ python -m nbconvert machine_translation.ipynb\n",
    "```\n",
    "  \n",
    "3. Submit the project\n",
    "\n",
    "  - If you are in a Workspace, simply click the \"Submit Project\" button (bottom towards the right)\n",
    "  \n",
    "  - Otherwise, add the following files into a zip archive and submit them \n",
    "  - `helper.py`\n",
    "  - `machine_translation.ipynb`\n",
    "  - `machine_translation.html`\n",
    "    - You can export the notebook by navigating to **File -> Download as -> HTML (.html)**."
   ]
  },
  {
   "cell_type": "markdown",
   "metadata": {},
   "source": [
    "### Generate the html\n",
    "\n",
    "**Save your notebook before running the next cell to generate the HTML output.** Then submit your project."
   ]
  },
  {
   "cell_type": "code",
   "execution_count": null,
   "metadata": {},
   "outputs": [],
   "source": [
    "# Save before you run this cell!\n",
    "!!jupyter nbconvert *.ipynb"
   ]
  }
 ],
 "metadata": {
  "kernelspec": {
   "display_name": "Python 3",
   "language": "python",
   "name": "python3"
  },
  "language_info": {
   "codemirror_mode": {
    "name": "ipython",
    "version": 3
   },
   "file_extension": ".py",
   "mimetype": "text/x-python",
   "name": "python",
   "nbconvert_exporter": "python",
   "pygments_lexer": "ipython3",
   "version": "3.6.1"
  }
 },
 "nbformat": 4,
 "nbformat_minor": 1
}
